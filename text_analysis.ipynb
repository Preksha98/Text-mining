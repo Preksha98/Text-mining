{
  "cells": [
    {
      "cell_type": "code",
      "source": [
        "from google.colab import drive\n",
        "drive.mount('/content/drive')"
      ],
      "metadata": {
        "colab": {
          "base_uri": "https://localhost:8080/"
        },
        "id": "FM8d0jFy7GvH",
        "outputId": "40518d72-d2e2-4b8c-db41-8600edd6e486"
      },
      "execution_count": null,
      "outputs": [
        {
          "output_type": "stream",
          "name": "stdout",
          "text": [
            "Mounted at /content/drive\n"
          ]
        }
      ]
    },
    {
      "cell_type": "code",
      "execution_count": null,
      "metadata": {
        "id": "M1fDmXtv7BUM"
      },
      "outputs": [],
      "source": [
        "import pandas as pd\n",
        "import numpy as np\n",
        "import matplotlib.pyplot as plt\n",
        "%matplotlib inline\n",
        "import seaborn as sns\n",
        "\n"
      ]
    },
    {
      "cell_type": "markdown",
      "source": [],
      "metadata": {
        "id": "UAeiH5NcTi6i"
      }
    },
    {
      "cell_type": "code",
      "execution_count": null,
      "metadata": {
        "id": "90JEcL-t7BUR"
      },
      "outputs": [],
      "source": [
        "import re\n",
        "import string\n",
        "from wordcloud import WordCloud\n",
        "from sklearn.preprocessing import LabelEncoder\n"
      ]
    },
    {
      "cell_type": "code",
      "execution_count": null,
      "metadata": {
        "colab": {
          "base_uri": "https://localhost:8080/"
        },
        "id": "KPDdfBEc7BUS",
        "outputId": "60b56c42-7a55-470b-93bb-d50364732e70"
      },
      "outputs": [
        {
          "output_type": "stream",
          "name": "stderr",
          "text": [
            "[nltk_data] Downloading package stopwords to /root/nltk_data...\n",
            "[nltk_data]   Unzipping corpora/stopwords.zip.\n",
            "[nltk_data] Downloading package punkt to /root/nltk_data...\n",
            "[nltk_data]   Unzipping tokenizers/punkt.zip.\n"
          ]
        },
        {
          "output_type": "execute_result",
          "data": {
            "text/plain": [
              "True"
            ]
          },
          "metadata": {},
          "execution_count": 4
        }
      ],
      "source": [
        "import nltk\n",
        "from nltk.corpus import stopwords\n",
        "from nltk.tokenize import sent_tokenize, word_tokenize\n",
        "from nltk.stem.wordnet import WordNetLemmatizer\n",
        "\n",
        "nltk.download('stopwords')\n",
        "nltk.download('punkt')\n"
      ]
    },
    {
      "cell_type": "code",
      "execution_count": null,
      "metadata": {
        "id": "FrZt7p6C7BUU"
      },
      "outputs": [],
      "source": [
        "from sklearn.model_selection import train_test_split\n",
        "from imblearn.pipeline import Pipeline as imbpipeline\n",
        "from sklearn.feature_extraction.text import CountVectorizer, TfidfTransformer\n",
        "from imblearn.over_sampling import SMOTE\n",
        "\n"
      ]
    },
    {
      "cell_type": "code",
      "execution_count": null,
      "metadata": {
        "id": "00XPNJx67BUV"
      },
      "outputs": [],
      "source": [
        "from sklearn.linear_model import LogisticRegression\n",
        "from sklearn.naive_bayes import MultinomialNB\n",
        "from sklearn.linear_model import SGDClassifier\n",
        "from sklearn.ensemble import RandomForestClassifier\n",
        "from sklearn.ensemble import AdaBoostClassifier\n",
        "from sklearn.metrics import confusion_matrix, accuracy_score, classification_report"
      ]
    },
    {
      "cell_type": "code",
      "execution_count": null,
      "metadata": {
        "id": "JFlqq7kf7BUV"
      },
      "outputs": [],
      "source": [
        "import pickle\n",
        "\n",
        "import warnings\n",
        "warnings.simplefilter('ignore')"
      ]
    },
    {
      "cell_type": "code",
      "execution_count": null,
      "metadata": {
        "id": "xMLdlqbU7BUW"
      },
      "outputs": [],
      "source": [
        "df = pd.read_csv('/content/drive/MyDrive/Adidas Vs Nike.csv', header=0,index_col=0)\n"
      ]
    },
    {
      "cell_type": "code",
      "execution_count": null,
      "metadata": {
        "colab": {
          "base_uri": "https://localhost:8080/"
        },
        "id": "ZDfiK8Eg7BUX",
        "outputId": "5029d2c0-382b-40fe-9b95-c76542da8139"
      },
      "outputs": [
        {
          "output_type": "stream",
          "name": "stdout",
          "text": [
            "<class 'pandas.core.frame.DataFrame'>\n",
            "Index: 3265 entries, Women's adidas Originals NMD_Racer Primeknit Shoes to Nike P-6000 SE\n",
            "Data columns (total 10 columns):\n",
            " #   Column         Non-Null Count  Dtype  \n",
            "---  ------         --------------  -----  \n",
            " 0   Product ID     3265 non-null   object \n",
            " 1   Listing Price  3265 non-null   int64  \n",
            " 2   Sale Price     3265 non-null   int64  \n",
            " 3   Discount       3265 non-null   int64  \n",
            " 4   Brand-name     3265 non-null   object \n",
            " 5   Brand          3265 non-null   object \n",
            " 6   Description    3265 non-null   object \n",
            " 7   Rating         3265 non-null   float64\n",
            " 8   Reviews        3265 non-null   int64  \n",
            " 9   Last Visited   3265 non-null   object \n",
            "dtypes: float64(1), int64(4), object(5)\n",
            "memory usage: 280.6+ KB\n"
          ]
        }
      ],
      "source": [
        "df.info()"
      ]
    },
    {
      "cell_type": "code",
      "execution_count": null,
      "metadata": {
        "colab": {
          "base_uri": "https://localhost:8080/"
        },
        "id": "r8iIAso47BUY",
        "outputId": "97b38ff7-f180-4455-9e33-543e900f1732"
      },
      "outputs": [
        {
          "output_type": "execute_result",
          "data": {
            "text/plain": [
              "Product ID       0\n",
              "Listing Price    0\n",
              "Sale Price       0\n",
              "Discount         0\n",
              "Brand-name       0\n",
              "Brand            0\n",
              "Description      0\n",
              "Rating           0\n",
              "Reviews          0\n",
              "Last Visited     0\n",
              "dtype: int64"
            ]
          },
          "metadata": {},
          "execution_count": 10
        }
      ],
      "source": [
        "df.isnull().sum()"
      ]
    },
    {
      "cell_type": "code",
      "execution_count": null,
      "metadata": {
        "colab": {
          "base_uri": "https://localhost:8080/"
        },
        "id": "VTIDIWj27BUY",
        "outputId": "c3a75ac8-b61d-40d1-afd4-be3c92ffef4a"
      },
      "outputs": [
        {
          "output_type": "execute_result",
          "data": {
            "text/plain": [
              "Product Name\n",
              "Women's adidas Originals NMD_Racer Primeknit Shoes    14999\n",
              "Women's adidas Originals Sleek Shoes                   7599\n",
              "Women's adidas Swim Puka Slippers                       999\n",
              "Women's adidas Sport Inspired Questar Ride Shoes       6999\n",
              "Women's adidas Originals Taekwondo Shoes               7999\n",
              "                                                      ...  \n",
              "Air Jordan 8 Retro                                    15995\n",
              "Nike Phantom Venom Club IC                             4995\n",
              "Nike Mercurial Superfly 7 Academy TF                   8495\n",
              "Nike Air Max 98                                           0\n",
              "Nike P-6000 SE                                         8995\n",
              "Name: Listing Price, Length: 3265, dtype: int64"
            ]
          },
          "metadata": {},
          "execution_count": 11
        }
      ],
      "source": [
        "df['Listing Price']"
      ]
    },
    {
      "cell_type": "code",
      "execution_count": null,
      "metadata": {
        "id": "Zuu7MXTU7BUZ"
      },
      "outputs": [],
      "source": [
        "df.dropna(subset=['Listing Price'], inplace=True)"
      ]
    },
    {
      "cell_type": "code",
      "execution_count": null,
      "metadata": {
        "colab": {
          "base_uri": "https://localhost:8080/"
        },
        "id": "HUD8nOYW7BUZ",
        "outputId": "a0e02fdd-3a42-432d-c69c-ce306186b8a0"
      },
      "outputs": [
        {
          "output_type": "execute_result",
          "data": {
            "text/plain": [
              "Product ID       0\n",
              "Listing Price    0\n",
              "Sale Price       0\n",
              "Discount         0\n",
              "Brand-name       0\n",
              "Brand            0\n",
              "Description      0\n",
              "Rating           0\n",
              "Reviews          0\n",
              "Last Visited     0\n",
              "dtype: int64"
            ]
          },
          "metadata": {},
          "execution_count": 13
        }
      ],
      "source": [
        "df.isnull().sum()"
      ]
    },
    {
      "cell_type": "code",
      "execution_count": null,
      "metadata": {
        "colab": {
          "base_uri": "https://localhost:8080/",
          "height": 341
        },
        "id": "iWCze64V7BUa",
        "outputId": "32915379-1d14-4b39-9a5e-8f0dde0268a4"
      },
      "outputs": [
        {
          "output_type": "execute_result",
          "data": {
            "text/plain": [
              "                                                   Product ID  Listing Price  \\\n",
              "Product Name                                                                   \n",
              "Women's adidas Originals NMD_Racer Primeknit Shoes     AH2430          14999   \n",
              "Women's adidas Originals Sleek Shoes                   G27341           7599   \n",
              "Women's adidas Swim Puka Slippers                      CM0081            999   \n",
              "Women's adidas Sport Inspired Questar Ride Shoes       B44832           6999   \n",
              "Women's adidas Originals Taekwondo Shoes               D98205           7999   \n",
              "\n",
              "                                                    Sale Price  Discount  \\\n",
              "Product Name                                                               \n",
              "Women's adidas Originals NMD_Racer Primeknit Shoes        7499        50   \n",
              "Women's adidas Originals Sleek Shoes                      3799        50   \n",
              "Women's adidas Swim Puka Slippers                          599        40   \n",
              "Women's adidas Sport Inspired Questar Ride Shoes          3499        50   \n",
              "Women's adidas Originals Taekwondo Shoes                  3999        50   \n",
              "\n",
              "                                                                      Brand  \\\n",
              "Product Name                                                                  \n",
              "Women's adidas Originals NMD_Racer Primeknit Shoes  Adidas Adidas ORIGINALS   \n",
              "Women's adidas Originals Sleek Shoes                       Adidas ORIGINALS   \n",
              "Women's adidas Swim Puka Slippers                         Adidas CORE / NEO   \n",
              "Women's adidas Sport Inspired Questar Ride Shoes          Adidas CORE / NEO   \n",
              "Women's adidas Originals Taekwondo Shoes                   Adidas ORIGINALS   \n",
              "\n",
              "                                                                                          Description  \\\n",
              "Product Name                                                                                            \n",
              "Women's adidas Originals NMD_Racer Primeknit Shoes  Channeling the streamlined look of an '80s rac...   \n",
              "Women's adidas Originals Sleek Shoes                A modern take on adidas sport heritage, tailor...   \n",
              "Women's adidas Swim Puka Slippers                   These adidas Puka slippers for women's come wi...   \n",
              "Women's adidas Sport Inspired Questar Ride Shoes    Inspired by modern tech runners, these women's...   \n",
              "Women's adidas Originals Taekwondo Shoes            This design is inspired by vintage Taekwondo s...   \n",
              "\n",
              "                                                    Rating  Reviews  \\\n",
              "Product Name                                                          \n",
              "Women's adidas Originals NMD_Racer Primeknit Shoes     4.8       41   \n",
              "Women's adidas Originals Sleek Shoes                   3.3       24   \n",
              "Women's adidas Swim Puka Slippers                      2.6       37   \n",
              "Women's adidas Sport Inspired Questar Ride Shoes       4.1       35   \n",
              "Women's adidas Originals Taekwondo Shoes               3.5       72   \n",
              "\n",
              "                                                           Last Visited  \\\n",
              "Product Name                                                              \n",
              "Women's adidas Originals NMD_Racer Primeknit Shoes  2020-04-13T15:06:14   \n",
              "Women's adidas Originals Sleek Shoes                2020-04-13T15:06:15   \n",
              "Women's adidas Swim Puka Slippers                   2020-04-13T15:06:15   \n",
              "Women's adidas Sport Inspired Questar Ride Shoes    2020-04-13T15:06:15   \n",
              "Women's adidas Originals Taekwondo Shoes            2020-04-13T15:06:15   \n",
              "\n",
              "                                                    brand_encoded  \n",
              "Product Name                                                       \n",
              "Women's adidas Originals NMD_Racer Primeknit Shoes              0  \n",
              "Women's adidas Originals Sleek Shoes                            2  \n",
              "Women's adidas Swim Puka Slippers                               1  \n",
              "Women's adidas Sport Inspired Questar Ride Shoes                1  \n",
              "Women's adidas Originals Taekwondo Shoes                        2  "
            ],
            "text/html": [
              "\n",
              "  <div id=\"df-e4e4c33b-29ad-4901-b943-2cb986e678a7\" class=\"colab-df-container\">\n",
              "    <div>\n",
              "<style scoped>\n",
              "    .dataframe tbody tr th:only-of-type {\n",
              "        vertical-align: middle;\n",
              "    }\n",
              "\n",
              "    .dataframe tbody tr th {\n",
              "        vertical-align: top;\n",
              "    }\n",
              "\n",
              "    .dataframe thead th {\n",
              "        text-align: right;\n",
              "    }\n",
              "</style>\n",
              "<table border=\"1\" class=\"dataframe\">\n",
              "  <thead>\n",
              "    <tr style=\"text-align: right;\">\n",
              "      <th></th>\n",
              "      <th>Product ID</th>\n",
              "      <th>Listing Price</th>\n",
              "      <th>Sale Price</th>\n",
              "      <th>Discount</th>\n",
              "      <th>Brand</th>\n",
              "      <th>Description</th>\n",
              "      <th>Rating</th>\n",
              "      <th>Reviews</th>\n",
              "      <th>Last Visited</th>\n",
              "      <th>brand_encoded</th>\n",
              "    </tr>\n",
              "    <tr>\n",
              "      <th>Product Name</th>\n",
              "      <th></th>\n",
              "      <th></th>\n",
              "      <th></th>\n",
              "      <th></th>\n",
              "      <th></th>\n",
              "      <th></th>\n",
              "      <th></th>\n",
              "      <th></th>\n",
              "      <th></th>\n",
              "      <th></th>\n",
              "    </tr>\n",
              "  </thead>\n",
              "  <tbody>\n",
              "    <tr>\n",
              "      <th>Women's adidas Originals NMD_Racer Primeknit Shoes</th>\n",
              "      <td>AH2430</td>\n",
              "      <td>14999</td>\n",
              "      <td>7499</td>\n",
              "      <td>50</td>\n",
              "      <td>Adidas Adidas ORIGINALS</td>\n",
              "      <td>Channeling the streamlined look of an '80s rac...</td>\n",
              "      <td>4.8</td>\n",
              "      <td>41</td>\n",
              "      <td>2020-04-13T15:06:14</td>\n",
              "      <td>0</td>\n",
              "    </tr>\n",
              "    <tr>\n",
              "      <th>Women's adidas Originals Sleek Shoes</th>\n",
              "      <td>G27341</td>\n",
              "      <td>7599</td>\n",
              "      <td>3799</td>\n",
              "      <td>50</td>\n",
              "      <td>Adidas ORIGINALS</td>\n",
              "      <td>A modern take on adidas sport heritage, tailor...</td>\n",
              "      <td>3.3</td>\n",
              "      <td>24</td>\n",
              "      <td>2020-04-13T15:06:15</td>\n",
              "      <td>2</td>\n",
              "    </tr>\n",
              "    <tr>\n",
              "      <th>Women's adidas Swim Puka Slippers</th>\n",
              "      <td>CM0081</td>\n",
              "      <td>999</td>\n",
              "      <td>599</td>\n",
              "      <td>40</td>\n",
              "      <td>Adidas CORE / NEO</td>\n",
              "      <td>These adidas Puka slippers for women's come wi...</td>\n",
              "      <td>2.6</td>\n",
              "      <td>37</td>\n",
              "      <td>2020-04-13T15:06:15</td>\n",
              "      <td>1</td>\n",
              "    </tr>\n",
              "    <tr>\n",
              "      <th>Women's adidas Sport Inspired Questar Ride Shoes</th>\n",
              "      <td>B44832</td>\n",
              "      <td>6999</td>\n",
              "      <td>3499</td>\n",
              "      <td>50</td>\n",
              "      <td>Adidas CORE / NEO</td>\n",
              "      <td>Inspired by modern tech runners, these women's...</td>\n",
              "      <td>4.1</td>\n",
              "      <td>35</td>\n",
              "      <td>2020-04-13T15:06:15</td>\n",
              "      <td>1</td>\n",
              "    </tr>\n",
              "    <tr>\n",
              "      <th>Women's adidas Originals Taekwondo Shoes</th>\n",
              "      <td>D98205</td>\n",
              "      <td>7999</td>\n",
              "      <td>3999</td>\n",
              "      <td>50</td>\n",
              "      <td>Adidas ORIGINALS</td>\n",
              "      <td>This design is inspired by vintage Taekwondo s...</td>\n",
              "      <td>3.5</td>\n",
              "      <td>72</td>\n",
              "      <td>2020-04-13T15:06:15</td>\n",
              "      <td>2</td>\n",
              "    </tr>\n",
              "  </tbody>\n",
              "</table>\n",
              "</div>\n",
              "    <div class=\"colab-df-buttons\">\n",
              "\n",
              "  <div class=\"colab-df-container\">\n",
              "    <button class=\"colab-df-convert\" onclick=\"convertToInteractive('df-e4e4c33b-29ad-4901-b943-2cb986e678a7')\"\n",
              "            title=\"Convert this dataframe to an interactive table.\"\n",
              "            style=\"display:none;\">\n",
              "\n",
              "  <svg xmlns=\"http://www.w3.org/2000/svg\" height=\"24px\" viewBox=\"0 -960 960 960\">\n",
              "    <path d=\"M120-120v-720h720v720H120Zm60-500h600v-160H180v160Zm220 220h160v-160H400v160Zm0 220h160v-160H400v160ZM180-400h160v-160H180v160Zm440 0h160v-160H620v160ZM180-180h160v-160H180v160Zm440 0h160v-160H620v160Z\"/>\n",
              "  </svg>\n",
              "    </button>\n",
              "\n",
              "  <style>\n",
              "    .colab-df-container {\n",
              "      display:flex;\n",
              "      gap: 12px;\n",
              "    }\n",
              "\n",
              "    .colab-df-convert {\n",
              "      background-color: #E8F0FE;\n",
              "      border: none;\n",
              "      border-radius: 50%;\n",
              "      cursor: pointer;\n",
              "      display: none;\n",
              "      fill: #1967D2;\n",
              "      height: 32px;\n",
              "      padding: 0 0 0 0;\n",
              "      width: 32px;\n",
              "    }\n",
              "\n",
              "    .colab-df-convert:hover {\n",
              "      background-color: #E2EBFA;\n",
              "      box-shadow: 0px 1px 2px rgba(60, 64, 67, 0.3), 0px 1px 3px 1px rgba(60, 64, 67, 0.15);\n",
              "      fill: #174EA6;\n",
              "    }\n",
              "\n",
              "    .colab-df-buttons div {\n",
              "      margin-bottom: 4px;\n",
              "    }\n",
              "\n",
              "    [theme=dark] .colab-df-convert {\n",
              "      background-color: #3B4455;\n",
              "      fill: #D2E3FC;\n",
              "    }\n",
              "\n",
              "    [theme=dark] .colab-df-convert:hover {\n",
              "      background-color: #434B5C;\n",
              "      box-shadow: 0px 1px 3px 1px rgba(0, 0, 0, 0.15);\n",
              "      filter: drop-shadow(0px 1px 2px rgba(0, 0, 0, 0.3));\n",
              "      fill: #FFFFFF;\n",
              "    }\n",
              "  </style>\n",
              "\n",
              "    <script>\n",
              "      const buttonEl =\n",
              "        document.querySelector('#df-e4e4c33b-29ad-4901-b943-2cb986e678a7 button.colab-df-convert');\n",
              "      buttonEl.style.display =\n",
              "        google.colab.kernel.accessAllowed ? 'block' : 'none';\n",
              "\n",
              "      async function convertToInteractive(key) {\n",
              "        const element = document.querySelector('#df-e4e4c33b-29ad-4901-b943-2cb986e678a7');\n",
              "        const dataTable =\n",
              "          await google.colab.kernel.invokeFunction('convertToInteractive',\n",
              "                                                    [key], {});\n",
              "        if (!dataTable) return;\n",
              "\n",
              "        const docLinkHtml = 'Like what you see? Visit the ' +\n",
              "          '<a target=\"_blank\" href=https://colab.research.google.com/notebooks/data_table.ipynb>data table notebook</a>'\n",
              "          + ' to learn more about interactive tables.';\n",
              "        element.innerHTML = '';\n",
              "        dataTable['output_type'] = 'display_data';\n",
              "        await google.colab.output.renderOutput(dataTable, element);\n",
              "        const docLink = document.createElement('div');\n",
              "        docLink.innerHTML = docLinkHtml;\n",
              "        element.appendChild(docLink);\n",
              "      }\n",
              "    </script>\n",
              "  </div>\n",
              "\n",
              "\n",
              "<div id=\"df-a8cd7939-b896-479d-afe7-a53fe80e3135\">\n",
              "  <button class=\"colab-df-quickchart\" onclick=\"quickchart('df-a8cd7939-b896-479d-afe7-a53fe80e3135')\"\n",
              "            title=\"Suggest charts\"\n",
              "            style=\"display:none;\">\n",
              "\n",
              "<svg xmlns=\"http://www.w3.org/2000/svg\" height=\"24px\"viewBox=\"0 0 24 24\"\n",
              "     width=\"24px\">\n",
              "    <g>\n",
              "        <path d=\"M19 3H5c-1.1 0-2 .9-2 2v14c0 1.1.9 2 2 2h14c1.1 0 2-.9 2-2V5c0-1.1-.9-2-2-2zM9 17H7v-7h2v7zm4 0h-2V7h2v10zm4 0h-2v-4h2v4z\"/>\n",
              "    </g>\n",
              "</svg>\n",
              "  </button>\n",
              "\n",
              "<style>\n",
              "  .colab-df-quickchart {\n",
              "      --bg-color: #E8F0FE;\n",
              "      --fill-color: #1967D2;\n",
              "      --hover-bg-color: #E2EBFA;\n",
              "      --hover-fill-color: #174EA6;\n",
              "      --disabled-fill-color: #AAA;\n",
              "      --disabled-bg-color: #DDD;\n",
              "  }\n",
              "\n",
              "  [theme=dark] .colab-df-quickchart {\n",
              "      --bg-color: #3B4455;\n",
              "      --fill-color: #D2E3FC;\n",
              "      --hover-bg-color: #434B5C;\n",
              "      --hover-fill-color: #FFFFFF;\n",
              "      --disabled-bg-color: #3B4455;\n",
              "      --disabled-fill-color: #666;\n",
              "  }\n",
              "\n",
              "  .colab-df-quickchart {\n",
              "    background-color: var(--bg-color);\n",
              "    border: none;\n",
              "    border-radius: 50%;\n",
              "    cursor: pointer;\n",
              "    display: none;\n",
              "    fill: var(--fill-color);\n",
              "    height: 32px;\n",
              "    padding: 0;\n",
              "    width: 32px;\n",
              "  }\n",
              "\n",
              "  .colab-df-quickchart:hover {\n",
              "    background-color: var(--hover-bg-color);\n",
              "    box-shadow: 0 1px 2px rgba(60, 64, 67, 0.3), 0 1px 3px 1px rgba(60, 64, 67, 0.15);\n",
              "    fill: var(--button-hover-fill-color);\n",
              "  }\n",
              "\n",
              "  .colab-df-quickchart-complete:disabled,\n",
              "  .colab-df-quickchart-complete:disabled:hover {\n",
              "    background-color: var(--disabled-bg-color);\n",
              "    fill: var(--disabled-fill-color);\n",
              "    box-shadow: none;\n",
              "  }\n",
              "\n",
              "  .colab-df-spinner {\n",
              "    border: 2px solid var(--fill-color);\n",
              "    border-color: transparent;\n",
              "    border-bottom-color: var(--fill-color);\n",
              "    animation:\n",
              "      spin 1s steps(1) infinite;\n",
              "  }\n",
              "\n",
              "  @keyframes spin {\n",
              "    0% {\n",
              "      border-color: transparent;\n",
              "      border-bottom-color: var(--fill-color);\n",
              "      border-left-color: var(--fill-color);\n",
              "    }\n",
              "    20% {\n",
              "      border-color: transparent;\n",
              "      border-left-color: var(--fill-color);\n",
              "      border-top-color: var(--fill-color);\n",
              "    }\n",
              "    30% {\n",
              "      border-color: transparent;\n",
              "      border-left-color: var(--fill-color);\n",
              "      border-top-color: var(--fill-color);\n",
              "      border-right-color: var(--fill-color);\n",
              "    }\n",
              "    40% {\n",
              "      border-color: transparent;\n",
              "      border-right-color: var(--fill-color);\n",
              "      border-top-color: var(--fill-color);\n",
              "    }\n",
              "    60% {\n",
              "      border-color: transparent;\n",
              "      border-right-color: var(--fill-color);\n",
              "    }\n",
              "    80% {\n",
              "      border-color: transparent;\n",
              "      border-right-color: var(--fill-color);\n",
              "      border-bottom-color: var(--fill-color);\n",
              "    }\n",
              "    90% {\n",
              "      border-color: transparent;\n",
              "      border-bottom-color: var(--fill-color);\n",
              "    }\n",
              "  }\n",
              "</style>\n",
              "\n",
              "  <script>\n",
              "    async function quickchart(key) {\n",
              "      const quickchartButtonEl =\n",
              "        document.querySelector('#' + key + ' button');\n",
              "      quickchartButtonEl.disabled = true;  // To prevent multiple clicks.\n",
              "      quickchartButtonEl.classList.add('colab-df-spinner');\n",
              "      try {\n",
              "        const charts = await google.colab.kernel.invokeFunction(\n",
              "            'suggestCharts', [key], {});\n",
              "      } catch (error) {\n",
              "        console.error('Error during call to suggestCharts:', error);\n",
              "      }\n",
              "      quickchartButtonEl.classList.remove('colab-df-spinner');\n",
              "      quickchartButtonEl.classList.add('colab-df-quickchart-complete');\n",
              "    }\n",
              "    (() => {\n",
              "      let quickchartButtonEl =\n",
              "        document.querySelector('#df-a8cd7939-b896-479d-afe7-a53fe80e3135 button');\n",
              "      quickchartButtonEl.style.display =\n",
              "        google.colab.kernel.accessAllowed ? 'block' : 'none';\n",
              "    })();\n",
              "  </script>\n",
              "</div>\n",
              "\n",
              "    </div>\n",
              "  </div>\n"
            ],
            "application/vnd.google.colaboratory.intrinsic+json": {
              "type": "dataframe",
              "variable_name": "df",
              "summary": "{\n  \"name\": \"df\",\n  \"rows\": 3265,\n  \"fields\": [\n    {\n      \"column\": \"Product Name\",\n      \"properties\": {\n        \"dtype\": \"category\",\n        \"num_unique_values\": 1530,\n        \"samples\": [\n          \"Men's adidas Originals Rivalry RM Shoes\",\n          \"Men's adidas Running Bound Shoes\",\n          \"Men's adidas Originals NMD_R1 Shoes\"\n        ],\n        \"semantic_type\": \"\",\n        \"description\": \"\"\n      }\n    },\n    {\n      \"column\": \"Product ID\",\n      \"properties\": {\n        \"dtype\": \"string\",\n        \"num_unique_values\": 3176,\n        \"samples\": [\n          \"G27244\",\n          \"CL7626\",\n          \"AT7999-414\"\n        ],\n        \"semantic_type\": \"\",\n        \"description\": \"\"\n      }\n    },\n    {\n      \"column\": \"Listing Price\",\n      \"properties\": {\n        \"dtype\": \"number\",\n        \"std\": 4722,\n        \"min\": 0,\n        \"max\": 29999,\n        \"num_unique_values\": 78,\n        \"samples\": [\n          2999,\n          14999,\n          12999\n        ],\n        \"semantic_type\": \"\",\n        \"description\": \"\"\n      }\n    },\n    {\n      \"column\": \"Sale Price\",\n      \"properties\": {\n        \"dtype\": \"number\",\n        \"std\": 4290,\n        \"min\": 449,\n        \"max\": 36500,\n        \"num_unique_values\": 227,\n        \"samples\": [\n          4559,\n          16995,\n          2279\n        ],\n        \"semantic_type\": \"\",\n        \"description\": \"\"\n      }\n    },\n    {\n      \"column\": \"Discount\",\n      \"properties\": {\n        \"dtype\": \"number\",\n        \"std\": 22,\n        \"min\": 0,\n        \"max\": 60,\n        \"num_unique_values\": 6,\n        \"samples\": [\n          50,\n          40,\n          20\n        ],\n        \"semantic_type\": \"\",\n        \"description\": \"\"\n      }\n    },\n    {\n      \"column\": \"Brand\",\n      \"properties\": {\n        \"dtype\": \"category\",\n        \"num_unique_values\": 5,\n        \"samples\": [\n          \"Adidas ORIGINALS\",\n          \"Nike\",\n          \"Adidas CORE / NEO\"\n        ],\n        \"semantic_type\": \"\",\n        \"description\": \"\"\n      }\n    },\n    {\n      \"column\": \"Description\",\n      \"properties\": {\n        \"dtype\": \"string\",\n        \"num_unique_values\": 1762,\n        \"samples\": [\n          \"Ready for outdoor adventures? This versatile shoe's mountain grip supplies sure footing. Features mesh and synthetic upper with EVA midsole for maximum impact cushioning. Its Super High Traction Rubber for optimal grip in wet conditions.\",\n          \"Extremely functional and subtle running-inspired shoes for men. The mesh upper of these shoes promise a comfortable comfort and a lightweight pick, while the EVA midsole and rubber outsole ensure durability.\",\n          \"First introduced in 1950, the Samba is one of adidas' most iconic trainers. These shoes take the classic shape in a fresh, feminine direction with a shiny metallic finish. Trendy platform soles give you a little extra height. The supple leather upper hugs your feet.\"\n        ],\n        \"semantic_type\": \"\",\n        \"description\": \"\"\n      }\n    },\n    {\n      \"column\": \"Rating\",\n      \"properties\": {\n        \"dtype\": \"number\",\n        \"std\": 1.429210427430386,\n        \"min\": 0.0,\n        \"max\": 5.0,\n        \"num_unique_values\": 32,\n        \"samples\": [\n          2.4,\n          5.0,\n          2.0\n        ],\n        \"semantic_type\": \"\",\n        \"description\": \"\"\n      }\n    },\n    {\n      \"column\": \"Reviews\",\n      \"properties\": {\n        \"dtype\": \"number\",\n        \"std\": 31,\n        \"min\": 0,\n        \"max\": 223,\n        \"num_unique_values\": 102,\n        \"samples\": [\n          4,\n          19,\n          49\n        ],\n        \"semantic_type\": \"\",\n        \"description\": \"\"\n      }\n    },\n    {\n      \"column\": \"Last Visited\",\n      \"properties\": {\n        \"dtype\": \"object\",\n        \"num_unique_values\": 318,\n        \"samples\": [\n          \"2020-04-13T15:07:27\",\n          \"2020-04-13T15:36:57\",\n          \"2020-04-13T15:06:39\"\n        ],\n        \"semantic_type\": \"\",\n        \"description\": \"\"\n      }\n    },\n    {\n      \"column\": \"brand_encoded\",\n      \"properties\": {\n        \"dtype\": \"number\",\n        \"std\": 1,\n        \"min\": 0,\n        \"max\": 4,\n        \"num_unique_values\": 5,\n        \"samples\": [\n          2,\n          4,\n          1\n        ],\n        \"semantic_type\": \"\",\n        \"description\": \"\"\n      }\n    }\n  ]\n}"
            }
          },
          "metadata": {},
          "execution_count": 14
        }
      ],
      "source": [
        "label_encoder = LabelEncoder()\n",
        "df['brand_encoded'] = label_encoder.fit_transform(df['Brand-name'])\n",
        "df=df.drop('Brand-name',axis=1)\n",
        "df.head()"
      ]
    },
    {
      "cell_type": "code",
      "execution_count": null,
      "metadata": {
        "id": "ajc8LFik7BUa",
        "colab": {
          "base_uri": "https://localhost:8080/"
        },
        "outputId": "10d8e85e-32fd-4edf-f832-9e9b12e1c3fd"
      },
      "outputs": [
        {
          "output_type": "stream",
          "name": "stdout",
          "text": [
            "                                                    Product ID  Listing Price  \\\n",
            "Product Name                                                                    \n",
            "Women's adidas Originals NMD_Racer Primeknit Shoes      AH2430          14999   \n",
            "Women's adidas Originals Sleek Shoes                    G27341           7599   \n",
            "Women's adidas Swim Puka Slippers                       CM0081            999   \n",
            "Women's adidas Sport Inspired Questar Ride Shoes        B44832           6999   \n",
            "Women's adidas Originals Taekwondo Shoes                D98205           7999   \n",
            "...                                                        ...            ...   \n",
            "Air Jordan 8 Retro                                  CI1236-100          15995   \n",
            "Nike Phantom Venom Club IC                          AO0578-717           4995   \n",
            "Nike Mercurial Superfly 7 Academy TF                AT7978-414           8495   \n",
            "Nike Air Max 98                                     AH6799-300              0   \n",
            "Nike P-6000 SE                                      CJ9585-600           8995   \n",
            "\n",
            "                                                    Sale Price  Discount  \\\n",
            "Product Name                                                               \n",
            "Women's adidas Originals NMD_Racer Primeknit Shoes        7499        50   \n",
            "Women's adidas Originals Sleek Shoes                      3799        50   \n",
            "Women's adidas Swim Puka Slippers                          599        40   \n",
            "Women's adidas Sport Inspired Questar Ride Shoes          3499        50   \n",
            "Women's adidas Originals Taekwondo Shoes                  3999        50   \n",
            "...                                                        ...       ...   \n",
            "Air Jordan 8 Retro                                       12797         0   \n",
            "Nike Phantom Venom Club IC                                3497         0   \n",
            "Nike Mercurial Superfly 7 Academy TF                      5947         0   \n",
            "Nike Air Max 98                                          16995         0   \n",
            "Nike P-6000 SE                                            6297         0   \n",
            "\n",
            "                                                                      Brand  \\\n",
            "Product Name                                                                  \n",
            "Women's adidas Originals NMD_Racer Primeknit Shoes  Adidas Adidas ORIGINALS   \n",
            "Women's adidas Originals Sleek Shoes                       Adidas ORIGINALS   \n",
            "Women's adidas Swim Puka Slippers                         Adidas CORE / NEO   \n",
            "Women's adidas Sport Inspired Questar Ride Shoes          Adidas CORE / NEO   \n",
            "Women's adidas Originals Taekwondo Shoes                   Adidas ORIGINALS   \n",
            "...                                                                     ...   \n",
            "Air Jordan 8 Retro                                                     Nike   \n",
            "Nike Phantom Venom Club IC                                             Nike   \n",
            "Nike Mercurial Superfly 7 Academy TF                                   Nike   \n",
            "Nike Air Max 98                                                        Nike   \n",
            "Nike P-6000 SE                                                         Nike   \n",
            "\n",
            "                                                                                          Description  \\\n",
            "Product Name                                                                                            \n",
            "Women's adidas Originals NMD_Racer Primeknit Shoes  Channeling the streamlined look of an '80s rac...   \n",
            "Women's adidas Originals Sleek Shoes                A modern take on adidas sport heritage, tailor...   \n",
            "Women's adidas Swim Puka Slippers                   These adidas Puka slippers for women's come wi...   \n",
            "Women's adidas Sport Inspired Questar Ride Shoes    Inspired by modern tech runners, these women's...   \n",
            "Women's adidas Originals Taekwondo Shoes            This design is inspired by vintage Taekwondo s...   \n",
            "...                                                                                               ...   \n",
            "Air Jordan 8 Retro                                  The Air Jordan 8 Retro recaptures the memorabl...   \n",
            "Nike Phantom Venom Club IC                          The Nike Phantom Venom Club IC is engineered f...   \n",
            "Nike Mercurial Superfly 7 Academy TF                The soft upper of the Nike Mercurial Superfly ...   \n",
            "Nike Air Max 98                                     The Nike Air Max 98 features the OG design lin...   \n",
            "Nike P-6000 SE                                      A mash-up of Pegasus' past, the Nike P-6000 SE...   \n",
            "\n",
            "                                                    Rating  Reviews  \\\n",
            "Product Name                                                          \n",
            "Women's adidas Originals NMD_Racer Primeknit Shoes     4.8       41   \n",
            "Women's adidas Originals Sleek Shoes                   3.3       24   \n",
            "Women's adidas Swim Puka Slippers                      2.6       37   \n",
            "Women's adidas Sport Inspired Questar Ride Shoes       4.1       35   \n",
            "Women's adidas Originals Taekwondo Shoes               3.5       72   \n",
            "...                                                    ...      ...   \n",
            "Air Jordan 8 Retro                                     5.0        1   \n",
            "Nike Phantom Venom Club IC                             0.0        0   \n",
            "Nike Mercurial Superfly 7 Academy TF                   5.0        1   \n",
            "Nike Air Max 98                                        4.0        4   \n",
            "Nike P-6000 SE                                         0.0        0   \n",
            "\n",
            "                                                           Last Visited  \\\n",
            "Product Name                                                              \n",
            "Women's adidas Originals NMD_Racer Primeknit Shoes  2020-04-13T15:06:14   \n",
            "Women's adidas Originals Sleek Shoes                2020-04-13T15:06:15   \n",
            "Women's adidas Swim Puka Slippers                   2020-04-13T15:06:15   \n",
            "Women's adidas Sport Inspired Questar Ride Shoes    2020-04-13T15:06:15   \n",
            "Women's adidas Originals Taekwondo Shoes            2020-04-13T15:06:15   \n",
            "...                                                                 ...   \n",
            "Air Jordan 8 Retro                                  2020-04-13T15:41:01   \n",
            "Nike Phantom Venom Club IC                          2020-04-13T15:41:03   \n",
            "Nike Mercurial Superfly 7 Academy TF                2020-04-13T15:41:07   \n",
            "Nike Air Max 98                                     2020-04-13T15:41:19   \n",
            "Nike P-6000 SE                                      2020-04-13T15:42:57   \n",
            "\n",
            "                                                    brand_encoded  \\\n",
            "Product Name                                                        \n",
            "Women's adidas Originals NMD_Racer Primeknit Shoes              0   \n",
            "Women's adidas Originals Sleek Shoes                            2   \n",
            "Women's adidas Swim Puka Slippers                               1   \n",
            "Women's adidas Sport Inspired Questar Ride Shoes                1   \n",
            "Women's adidas Originals Taekwondo Shoes                        2   \n",
            "...                                                           ...   \n",
            "Air Jordan 8 Retro                                              4   \n",
            "Nike Phantom Venom Club IC                                      4   \n",
            "Nike Mercurial Superfly 7 Academy TF                            4   \n",
            "Nike Air Max 98                                                 4   \n",
            "Nike P-6000 SE                                                  4   \n",
            "\n",
            "                                                                                     Combined_Columns  \n",
            "Product Name                                                                                           \n",
            "Women's adidas Originals NMD_Racer Primeknit Shoes  Adidas Adidas ORIGINALSChanneling the streamli...  \n",
            "Women's adidas Originals Sleek Shoes                Adidas ORIGINALSA modern take on adidas sport ...  \n",
            "Women's adidas Swim Puka Slippers                   Adidas CORE / NEOThese adidas Puka slippers fo...  \n",
            "Women's adidas Sport Inspired Questar Ride Shoes    Adidas CORE / NEOInspired by modern tech runne...  \n",
            "Women's adidas Originals Taekwondo Shoes            Adidas ORIGINALSThis design is inspired by vin...  \n",
            "...                                                                                               ...  \n",
            "Air Jordan 8 Retro                                  NikeThe Air Jordan 8 Retro recaptures the memo...  \n",
            "Nike Phantom Venom Club IC                          NikeThe Nike Phantom Venom Club IC is engineer...  \n",
            "Nike Mercurial Superfly 7 Academy TF                NikeThe soft upper of the Nike Mercurial Super...  \n",
            "Nike Air Max 98                                     NikeThe Nike Air Max 98 features the OG design...  \n",
            "Nike P-6000 SE                                      NikeA mash-up of Pegasus' past, the Nike P-600...  \n",
            "\n",
            "[3265 rows x 11 columns]\n"
          ]
        }
      ],
      "source": [
        "df['Combined_Columns']= df['Brand'].astype(str) + df['Description']\n",
        "print(df)"
      ]
    },
    {
      "cell_type": "code",
      "execution_count": null,
      "metadata": {
        "id": "5zvjgOuc7BUa"
      },
      "outputs": [],
      "source": [
        "def tokens(words):\n",
        "    words = re.sub(\"[^a-zA-Z]\",\" \", words)\n",
        "    text = words.lower().split()\n",
        "    return \" \".join(text)"
      ]
    },
    {
      "cell_type": "code",
      "execution_count": null,
      "metadata": {
        "id": "uKXU4aWI7BUb"
      },
      "outputs": [],
      "source": [
        "def remove_stop_words(sentence):\n",
        "    if isinstance(sentence, str):\n",
        "        word_tokens = word_tokenize(sentence)\n",
        "        filtered_sentence = [word for word in word_tokens if word.lower() not in stop_words]\n",
        "        return ' '.join(filtered_sentence)\n",
        "    else:\n",
        "        return sentence"
      ]
    },
    {
      "cell_type": "code",
      "execution_count": null,
      "metadata": {
        "colab": {
          "base_uri": "https://localhost:8080/"
        },
        "id": "Cf7Jby2j7BUb",
        "outputId": "07b28502-b4d1-4003-9456-3a8a759f122e"
      },
      "outputs": [
        {
          "output_type": "stream",
          "name": "stdout",
          "text": [
            "['i', \"you've\", 'himself', 'they', 'that', 'been', 'a', 'while', 'through', 'in', 'here', 'few', 'own', 'just', 're', 'doesn', 'ma', \"shouldn't\"]\n"
          ]
        }
      ],
      "source": [
        "#Show some stop words\n",
        "stop_words = stopwords.words('english')\n",
        "print(stop_words[::10])"
      ]
    },
    {
      "cell_type": "code",
      "execution_count": null,
      "metadata": {
        "colab": {
          "base_uri": "https://localhost:8080/"
        },
        "id": "Nzj_Hvs67BUb",
        "outputId": "bca78fc9-e2e6-45a3-a74f-8bb26c4c8f4b"
      },
      "outputs": [
        {
          "output_type": "stream",
          "name": "stdout",
          "text": [
            "Product Name\n",
            "Women's adidas Originals NMD_Racer Primeknit Shoes    Channeling streamlined look '80s racer , shoes...\n",
            "Women's adidas Originals Sleek Shoes                  modern take adidas sport heritage , tailored w...\n",
            "Women's adidas Swim Puka Slippers                     adidas Puka slippers women 's come slim straps...\n",
            "Women's adidas Sport Inspired Questar Ride Shoes      Inspired modern tech runners , women 's shoes ...\n",
            "Women's adidas Originals Taekwondo Shoes              design inspired vintage Taekwondo styles origi...\n",
            "                                                                            ...                        \n",
            "Air Jordan 8 Retro                                    Air Jordan 8 Retro recaptures memorable look '...\n",
            "Nike Phantom Venom Club IC                            Nike Phantom Venom Club IC engineered powerful...\n",
            "Nike Mercurial Superfly 7 Academy TF                  soft upper Nike Mercurial Superfly 7 Academy T...\n",
            "Nike Air Max 98                                       Nike Air Max 98 features OG design lines inspi...\n",
            "Nike P-6000 SE                                        mash-up Pegasus ' past , Nike P-6000 SE featur...\n",
            "Name: Description, Length: 3265, dtype: object\n"
          ]
        }
      ],
      "source": [
        "df['Description'] = df['Description'].apply(remove_stop_words)\n",
        "print(df['Description'])"
      ]
    },
    {
      "cell_type": "code",
      "execution_count": null,
      "metadata": {
        "colab": {
          "base_uri": "https://localhost:8080/"
        },
        "id": "xKhCAw5a7BUc",
        "outputId": "e5c45300-2694-40a8-a047-1697711a9fec"
      },
      "outputs": [
        {
          "output_type": "stream",
          "name": "stdout",
          "text": [
            "Product Name\n",
            "Women's adidas Originals NMD_Racer Primeknit Shoes    Channeling streamlined look '80s racer , shoes...\n",
            "Women's adidas Originals Sleek Shoes                  modern take adidas sport heritage , tailored w...\n",
            "Women's adidas Swim Puka Slippers                     adidas Puka slippers women 's come slim straps...\n",
            "Women's adidas Sport Inspired Questar Ride Shoes      Inspired modern tech runners , women 's shoes ...\n",
            "Women's adidas Originals Taekwondo Shoes              design inspired vintage Taekwondo styles origi...\n",
            "                                                                            ...                        \n",
            "Air Jordan 8 Retro                                    Air Jordan 8 Retro recaptures memorable look '...\n",
            "Nike Phantom Venom Club IC                            Nike Phantom Venom Club IC engineered powerful...\n",
            "Nike Mercurial Superfly 7 Academy TF                  soft upper Nike Mercurial Superfly 7 Academy T...\n",
            "Nike Air Max 98                                       Nike Air Max 98 features OG design lines inspi...\n",
            "Nike P-6000 SE                                        mash-up Pegasus ' past , Nike P-6000 SE featur...\n",
            "Name: Description, Length: 3265, dtype: object\n",
            "(3265,)\n"
          ]
        }
      ],
      "source": [
        "x = df.drop('brand_encoded', axis=1)# Drop the target column\n",
        "x1=df['Description']\n",
        "y = df['brand_encoded']\n",
        "print(x1)\n",
        "print(y.shape)"
      ]
    },
    {
      "cell_type": "code",
      "execution_count": null,
      "metadata": {
        "colab": {
          "base_uri": "https://localhost:8080/"
        },
        "id": "-WKY3MKj7BUc",
        "outputId": "aee58954-bb83-437e-ea2e-8f7b1ffc4ade"
      },
      "outputs": [
        {
          "output_type": "stream",
          "name": "stdout",
          "text": [
            "(653,)\n"
          ]
        }
      ],
      "source": [
        "x_train, x_test, y_train, y_test = train_test_split(x1, y, test_size=0.2, random_state=42)\n",
        "print(y_test.shape)"
      ]
    },
    {
      "cell_type": "code",
      "execution_count": null,
      "metadata": {
        "colab": {
          "base_uri": "https://localhost:8080/"
        },
        "id": "m0gKySnT7BUd",
        "outputId": "197c0381-f47f-42a3-8c1e-6d2020e4a8a4"
      },
      "outputs": [
        {
          "output_type": "stream",
          "name": "stdout",
          "text": [
            "(2612, 4225)\n",
            "(2612,)\n"
          ]
        }
      ],
      "source": [
        "from sklearn.feature_extraction.text import CountVectorizer\n",
        "tfidf_vectorizer = CountVectorizer()\n",
        "X_train_tfidf = tfidf_vectorizer.fit_transform(x_train)\n",
        "X_test_tfidf = tfidf_vectorizer.transform(x_test)\n",
        "print(X_train_tfidf.shape)\n",
        "print(y_train.shape)"
      ]
    },
    {
      "cell_type": "code",
      "execution_count": null,
      "metadata": {
        "colab": {
          "base_uri": "https://localhost:8080/"
        },
        "id": "LZXVR7x57BUd",
        "outputId": "f9b915da-75b4-4f82-b9ee-d5af81860280"
      },
      "outputs": [
        {
          "output_type": "stream",
          "name": "stdout",
          "text": [
            "Dimensions match. Training the model...\n"
          ]
        }
      ],
      "source": [
        "if X_train_tfidf.shape[0] == len(y_train):\n",
        "    # Dimensions match, continue with training\n",
        "    print(\"Dimensions match. Training the model...\")\n",
        "else:\n",
        "    # Adjust data if necessary\n",
        "    print(\"Dimensions do not match. Adjusting data...\")\n"
      ]
    },
    {
      "cell_type": "code",
      "execution_count": null,
      "metadata": {
        "colab": {
          "base_uri": "https://localhost:8080/"
        },
        "id": "GHn_2Ydy7BUd",
        "outputId": "da2287f5-9c1f-4316-f79b-51c36e8ae44c"
      },
      "outputs": [
        {
          "output_type": "stream",
          "name": "stdout",
          "text": [
            "Dimensions adjusted. Training the model...\n"
          ]
        }
      ],
      "source": [
        "    X_train = x_train[:X_train_tfidf.shape[0]]  # Adjust X_train if necessary\n",
        "    y_train = y_train[:X_train_tfidf.shape[0]]  # Adjust y_train if necessary\n",
        "    y_test = y_test[:X_test_tfidf.shape[0]]  # Adjust y_train if necessary\n",
        "    # Re-vectorize the text data\n",
        "    X_train_tfidf = tfidf_vectorizer.fit_transform(X_train)\n",
        "\n",
        "    # Recheck dimensions\n",
        "    if X_train_tfidf.shape[0] == len(y_train):\n",
        "        print(\"Dimensions adjusted. Training the model...\")\n",
        "    else:\n",
        "        print(\"Error: Dimensions still do not match. Further investigation needed.\")\n",
        "\n"
      ]
    },
    {
      "cell_type": "code",
      "execution_count": null,
      "metadata": {
        "id": "mQX-2_OW7BUe"
      },
      "outputs": [],
      "source": [
        "rf_classifier = RandomForestClassifier(n_estimators=100, random_state=42)"
      ]
    },
    {
      "cell_type": "code",
      "execution_count": null,
      "metadata": {
        "colab": {
          "base_uri": "https://localhost:8080/",
          "height": 74
        },
        "id": "1kCWP-KF7BUe",
        "outputId": "cbaab4a6-c0ae-4dbc-f6c1-f65e36d4bf3c"
      },
      "outputs": [
        {
          "output_type": "execute_result",
          "data": {
            "text/plain": [
              "RandomForestClassifier(random_state=42)"
            ],
            "text/html": [
              "<style>#sk-container-id-1 {color: black;background-color: white;}#sk-container-id-1 pre{padding: 0;}#sk-container-id-1 div.sk-toggleable {background-color: white;}#sk-container-id-1 label.sk-toggleable__label {cursor: pointer;display: block;width: 100%;margin-bottom: 0;padding: 0.3em;box-sizing: border-box;text-align: center;}#sk-container-id-1 label.sk-toggleable__label-arrow:before {content: \"▸\";float: left;margin-right: 0.25em;color: #696969;}#sk-container-id-1 label.sk-toggleable__label-arrow:hover:before {color: black;}#sk-container-id-1 div.sk-estimator:hover label.sk-toggleable__label-arrow:before {color: black;}#sk-container-id-1 div.sk-toggleable__content {max-height: 0;max-width: 0;overflow: hidden;text-align: left;background-color: #f0f8ff;}#sk-container-id-1 div.sk-toggleable__content pre {margin: 0.2em;color: black;border-radius: 0.25em;background-color: #f0f8ff;}#sk-container-id-1 input.sk-toggleable__control:checked~div.sk-toggleable__content {max-height: 200px;max-width: 100%;overflow: auto;}#sk-container-id-1 input.sk-toggleable__control:checked~label.sk-toggleable__label-arrow:before {content: \"▾\";}#sk-container-id-1 div.sk-estimator input.sk-toggleable__control:checked~label.sk-toggleable__label {background-color: #d4ebff;}#sk-container-id-1 div.sk-label input.sk-toggleable__control:checked~label.sk-toggleable__label {background-color: #d4ebff;}#sk-container-id-1 input.sk-hidden--visually {border: 0;clip: rect(1px 1px 1px 1px);clip: rect(1px, 1px, 1px, 1px);height: 1px;margin: -1px;overflow: hidden;padding: 0;position: absolute;width: 1px;}#sk-container-id-1 div.sk-estimator {font-family: monospace;background-color: #f0f8ff;border: 1px dotted black;border-radius: 0.25em;box-sizing: border-box;margin-bottom: 0.5em;}#sk-container-id-1 div.sk-estimator:hover {background-color: #d4ebff;}#sk-container-id-1 div.sk-parallel-item::after {content: \"\";width: 100%;border-bottom: 1px solid gray;flex-grow: 1;}#sk-container-id-1 div.sk-label:hover label.sk-toggleable__label {background-color: #d4ebff;}#sk-container-id-1 div.sk-serial::before {content: \"\";position: absolute;border-left: 1px solid gray;box-sizing: border-box;top: 0;bottom: 0;left: 50%;z-index: 0;}#sk-container-id-1 div.sk-serial {display: flex;flex-direction: column;align-items: center;background-color: white;padding-right: 0.2em;padding-left: 0.2em;position: relative;}#sk-container-id-1 div.sk-item {position: relative;z-index: 1;}#sk-container-id-1 div.sk-parallel {display: flex;align-items: stretch;justify-content: center;background-color: white;position: relative;}#sk-container-id-1 div.sk-item::before, #sk-container-id-1 div.sk-parallel-item::before {content: \"\";position: absolute;border-left: 1px solid gray;box-sizing: border-box;top: 0;bottom: 0;left: 50%;z-index: -1;}#sk-container-id-1 div.sk-parallel-item {display: flex;flex-direction: column;z-index: 1;position: relative;background-color: white;}#sk-container-id-1 div.sk-parallel-item:first-child::after {align-self: flex-end;width: 50%;}#sk-container-id-1 div.sk-parallel-item:last-child::after {align-self: flex-start;width: 50%;}#sk-container-id-1 div.sk-parallel-item:only-child::after {width: 0;}#sk-container-id-1 div.sk-dashed-wrapped {border: 1px dashed gray;margin: 0 0.4em 0.5em 0.4em;box-sizing: border-box;padding-bottom: 0.4em;background-color: white;}#sk-container-id-1 div.sk-label label {font-family: monospace;font-weight: bold;display: inline-block;line-height: 1.2em;}#sk-container-id-1 div.sk-label-container {text-align: center;}#sk-container-id-1 div.sk-container {/* jupyter's `normalize.less` sets `[hidden] { display: none; }` but bootstrap.min.css set `[hidden] { display: none !important; }` so we also need the `!important` here to be able to override the default hidden behavior on the sphinx rendered scikit-learn.org. See: https://github.com/scikit-learn/scikit-learn/issues/21755 */display: inline-block !important;position: relative;}#sk-container-id-1 div.sk-text-repr-fallback {display: none;}</style><div id=\"sk-container-id-1\" class=\"sk-top-container\"><div class=\"sk-text-repr-fallback\"><pre>RandomForestClassifier(random_state=42)</pre><b>In a Jupyter environment, please rerun this cell to show the HTML representation or trust the notebook. <br />On GitHub, the HTML representation is unable to render, please try loading this page with nbviewer.org.</b></div><div class=\"sk-container\" hidden><div class=\"sk-item\"><div class=\"sk-estimator sk-toggleable\"><input class=\"sk-toggleable__control sk-hidden--visually\" id=\"sk-estimator-id-1\" type=\"checkbox\" checked><label for=\"sk-estimator-id-1\" class=\"sk-toggleable__label sk-toggleable__label-arrow\">RandomForestClassifier</label><div class=\"sk-toggleable__content\"><pre>RandomForestClassifier(random_state=42)</pre></div></div></div></div></div>"
            ]
          },
          "metadata": {},
          "execution_count": 26
        }
      ],
      "source": [
        "rf_classifier.fit(X_train_tfidf, y_train)"
      ]
    },
    {
      "cell_type": "code",
      "execution_count": null,
      "metadata": {
        "id": "OSIyxjzK7BUf"
      },
      "outputs": [],
      "source": [
        "y_pred = rf_classifier.predict(X_test_tfidf)"
      ]
    },
    {
      "cell_type": "code",
      "execution_count": null,
      "metadata": {
        "colab": {
          "base_uri": "https://localhost:8080/"
        },
        "id": "99BQlaHf7BUf",
        "outputId": "4aa3eb38-4f98-418f-f634-2c67b23c37f2"
      },
      "outputs": [
        {
          "output_type": "stream",
          "name": "stdout",
          "text": [
            "Classification Report:\n",
            "              precision    recall  f1-score   support\n",
            "\n",
            "           0       0.00      0.00      0.00         1\n",
            "           1       0.97      0.99      0.98       243\n",
            "           2       0.94      0.99      0.97       167\n",
            "           3       1.00      0.90      0.95       118\n",
            "           4       1.00      0.98      0.99       124\n",
            "\n",
            "    accuracy                           0.97       653\n",
            "   macro avg       0.78      0.77      0.78       653\n",
            "weighted avg       0.97      0.97      0.97       653\n",
            "\n"
          ]
        }
      ],
      "source": [
        "print(\"Classification Report:\")\n",
        "print(classification_report(y_test, y_pred))"
      ]
    },
    {
      "cell_type": "code",
      "execution_count": null,
      "metadata": {
        "colab": {
          "base_uri": "https://localhost:8080/",
          "height": 564
        },
        "id": "2Eil5ZHx7BUf",
        "outputId": "715f52cb-1567-443a-dfff-99f7bce6d669"
      },
      "outputs": [
        {
          "output_type": "display_data",
          "data": {
            "text/plain": [
              "<Figure size 800x600 with 2 Axes>"
            ],
            "image/png": "[encoded data removed]"
          },
          "metadata": {}
        }
      ],
      "source": [
        "cm=confusion_matrix(y_test, y_pred)\n",
        "plt.figure(figsize=(8, 6))\n",
        "sns.heatmap(cm, annot=True, cmap='Blues', fmt='d', xticklabels=[0, 1, 2], yticklabels=[0, 1, 2])\n",
        "plt.xlabel('Predicted labels')\n",
        "plt.ylabel('True labels')\n",
        "plt.title('Confusion Matrix')\n",
        "plt.show()"
      ]
    },
    {
      "cell_type": "code",
      "source": [
        "def filter_products(user_input):\n",
        "    user_review = [user_input]\n",
        "    user_review_transformed = tfidf_vectorizer.transform(user_review)\n",
        "    predicted_product = rf_classifier.predict(user_review_transformed)\n",
        "    return predicted_product[0]\n",
        "\n",
        "# Simulating user input\n",
        "user_input = input(\"Enter your review: \")\n",
        "predicted_product = filter_products(user_input)\n",
        "print(\"Recommended product based on your review:\", predicted_product)\n"
      ],
      "metadata": {
        "colab": {
          "base_uri": "https://localhost:8080/"
        },
        "id": "Q4M4fRgfcPxL",
        "outputId": "8e6a9998-b400-4c06-8ad0-924fbcbecc9a"
      },
      "execution_count": null,
      "outputs": [
        {
          "output_type": "stream",
          "name": "stdout",
          "text": [
            "Enter your review: nike shoes\n",
            "Recommended product based on your review: 4\n"
          ]
        }
      ]
    },
    {
      "cell_type": "code",
      "execution_count": null,
      "metadata": {
        "id": "e4f9hRhf7BUh"
      },
      "outputs": [],
      "source": [
        "adidas shoes\n"
      ]
    }
  ],
  "metadata": {
    "kernelspec": {
      "display_name": "Python 3 (ipykernel)",
      "language": "python",
      "name": "python3"
    },
    "language_info": {
      "codemirror_mode": {
        "name": "ipython",
        "version": 3
      },
      "file_extension": ".py",
      "mimetype": "text/x-python",
      "name": "python",
      "nbconvert_exporter": "python",
      "pygments_lexer": "ipython3",
      "version": "3.11.5"
    },
    "colab": {
      "provenance": []
    }
  },
  "nbformat": 4,
  "nbformat_minor": 0
}